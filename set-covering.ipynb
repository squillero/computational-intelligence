{
 "cells": [
  {
   "cell_type": "markdown",
   "metadata": {},
   "source": [
    "Copyright **`(c)`** 2021 Giovanni Squillero `<squillero@polito.it>`  \n",
    "`https://github.com/squillero/computational-intelligence`  \n",
    "Free for personal or classroom use; see 'LICENCE.md' for details."
   ]
  },
  {
   "cell_type": "code",
   "execution_count": 1,
   "metadata": {},
   "outputs": [],
   "source": [
    "import logging\n",
    "from collections import deque\n",
    "import numpy as np\n",
    "from tqdm.notebook import tqdm, trange\n",
    "from matplotlib import pyplot as plt\n",
    "\n",
    "logging.basicConfig(\n",
    "    format=\"[%(asctime)s] %(levelname)s: %(message)s\",\n",
    "    datefmt=\"%H:%M:%S\",\n",
    "    level=logging.INFO,\n",
    ")"
   ]
  },
  {
   "cell_type": "markdown",
   "metadata": {},
   "source": [
    "# Set Covering\n",
    "\n",
    "See [https://en.wikipedia.org/wiki/Set_cover_problem](https://en.wikipedia.org/wiki/Set_cover_problem)"
   ]
  },
  {
   "cell_type": "code",
   "execution_count": 2,
   "metadata": {},
   "outputs": [],
   "source": [
    "SEED = 42\n",
    "np.random.seed(SEED)"
   ]
  },
  {
   "cell_type": "code",
   "execution_count": 3,
   "metadata": {},
   "outputs": [],
   "source": [
    "NUM_SETS = 200\n",
    "NUM_AREAS = 20\n",
    "SETS = np.random.random((NUM_SETS, NUM_AREAS)) < 0.5\n",
    "COSTS = np.random.randint(1, 10_000 + 1, size=(NUM_SETS))\n",
    "\n",
    "\n",
    "def solution_cost(solution):\n",
    "    return np.sum(COSTS[solution])\n",
    "\n",
    "\n",
    "def is_valid(solution):\n",
    "    return np.all(np.any(SETS[solution], axis=0))\n",
    "\n",
    "\n",
    "def sol2set(solution):\n",
    "    return frozenset(n for n in range(NUM_SETS) if solution[n])\n",
    "\n",
    "\n",
    "def set2sol(set_):\n",
    "    return np.array([x in set_ for x in range(NUM_SETS)])"
   ]
  },
  {
   "cell_type": "code",
   "execution_count": 4,
   "metadata": {},
   "outputs": [],
   "source": [
    "def tweak(solution):\n",
    "    new_solution = solution.copy()\n",
    "    index = None\n",
    "    while index is None or np.random.random() < 0.2:\n",
    "        index = np.random.randint(0, NUM_SETS)\n",
    "        new_solution[index] = not new_solution[index]\n",
    "    return new_solution"
   ]
  },
  {
   "cell_type": "code",
   "execution_count": 5,
   "metadata": {},
   "outputs": [],
   "source": [
    "logging.getLogger().setLevel(logging.INFO)\n",
    "NUM_SAMPLES = 10\n",
    "NUM_STEPS = 1000"
   ]
  },
  {
   "cell_type": "markdown",
   "metadata": {},
   "source": [
    "## Vanilla Steepest Ascent Hill Climber with Replacement"
   ]
  },
  {
   "cell_type": "code",
   "execution_count": 6,
   "metadata": {},
   "outputs": [
    {
     "data": {
      "application/vnd.jupyter.widget-view+json": {
       "model_id": "b87385cbf9d641d2aecf257e593f4abf",
       "version_major": 2,
       "version_minor": 0
      },
      "text/plain": [
       "  0%|          | 0/1000 [00:00<?, ?it/s]"
      ]
     },
     "metadata": {},
     "output_type": "display_data"
    },
    {
     "name": "stderr",
     "output_type": "stream",
     "text": [
      "[13:11:52] INFO: Best solution cost: 5,891, found in 117 steps (9,769 total evaluations)\n"
     ]
    }
   ],
   "source": [
    "np.random.seed(SEED)\n",
    "\n",
    "solution = np.random.random((NUM_SETS,)) < 0.5\n",
    "best_solution = None\n",
    "last_improvement = 0\n",
    "\n",
    "tot_evaluations = 0\n",
    "for step in tqdm(range(NUM_STEPS)):\n",
    "    bunch = [tweak(solution) for _ in range(NUM_SAMPLES)]\n",
    "    candidates = [sol for sol in bunch if is_valid(sol)]\n",
    "    if not candidates:\n",
    "        continue\n",
    "    tot_evaluations += len(candidates)\n",
    "    costs = [solution_cost(sol) for sol in candidates]\n",
    "\n",
    "    i = costs.index(min(costs))\n",
    "    champion = candidates[i]\n",
    "\n",
    "    if not is_valid(solution) or solution_cost(champion) < solution_cost(solution):\n",
    "        solution = champion\n",
    "        if best_solution is None or solution_cost(solution) < solution_cost(best_solution):\n",
    "            last_improvement = step\n",
    "            best_solution = np.copy(solution)\n",
    "            logging.debug(\n",
    "                f\"Solution: {sol2set(best_solution)} with cost of {solution_cost(best_solution):,}, found in {last_improvement:,} steps\"\n",
    "            )\n",
    "\n",
    "logging.info(\n",
    "    f\"Best solution cost: {solution_cost(best_solution):,}, found in {last_improvement:,} steps ({tot_evaluations:,} total evaluations)\"\n",
    ")"
   ]
  },
  {
   "cell_type": "markdown",
   "metadata": {},
   "source": [
    "## Tabu Search"
   ]
  },
  {
   "cell_type": "code",
   "execution_count": 7,
   "metadata": {},
   "outputs": [
    {
     "data": {
      "application/vnd.jupyter.widget-view+json": {
       "model_id": "b07a861a614d4e7aa849acdd62225c5e",
       "version_major": 2,
       "version_minor": 0
      },
      "text/plain": [
       "  0%|          | 0/1000 [00:00<?, ?it/s]"
      ]
     },
     "metadata": {},
     "output_type": "display_data"
    },
    {
     "name": "stderr",
     "output_type": "stream",
     "text": [
      "[13:11:53] INFO: Best solution cost: 5,891, found in 117 steps (4,153 total evaluations)\n"
     ]
    }
   ],
   "source": [
    "np.random.seed(SEED)\n",
    "\n",
    "solution = np.random.random((NUM_SETS,)) < 0.5\n",
    "best_solution = None\n",
    "last_improvement = 0\n",
    "tabu_list = deque()\n",
    "\n",
    "tot_evaluations = 0\n",
    "for step in tqdm(range(NUM_STEPS)):\n",
    "    bunch = [tweak(solution) for _ in range(NUM_SAMPLES)]\n",
    "    candidates = [sol for sol in bunch if is_valid(sol) and sol2set(sol) not in tabu_list]\n",
    "    if not candidates:\n",
    "        continue\n",
    "    tot_evaluations += len(candidates)\n",
    "    costs = [solution_cost(sol) for sol in candidates]\n",
    "\n",
    "    i = costs.index(min(costs))\n",
    "    champion = candidates[i]\n",
    "    tabu_list.append(sol2set(champion))\n",
    "\n",
    "    if not is_valid(solution) or solution_cost(champion) < solution_cost(solution):\n",
    "        solution = champion\n",
    "        if best_solution is None or solution_cost(solution) < solution_cost(best_solution):\n",
    "            last_improvement = step\n",
    "            best_solution = np.copy(solution)\n",
    "            logging.debug(\n",
    "                f\"Solution: {sol2set(best_solution)} with cost of {solution_cost(best_solution):,}, found in {last_improvement:,} steps\"\n",
    "            )\n",
    "\n",
    "    while len(tabu_list) > 500:\n",
    "        tabu_list.popleft()\n",
    "\n",
    "logging.info(\n",
    "    f\"Best solution cost: {solution_cost(best_solution):,}, found in {last_improvement:,} steps ({tot_evaluations:,} total evaluations)\"\n",
    ")"
   ]
  },
  {
   "cell_type": "markdown",
   "metadata": {},
   "source": [
    "## Iterated Local search"
   ]
  },
  {
   "cell_type": "code",
   "execution_count": 8,
   "metadata": {},
   "outputs": [],
   "source": [
    "def new_starting_position(global_, last):\n",
    "    if global_ is None:\n",
    "        return np.random.random((NUM_SETS,)) < 0.5\n",
    "    else:\n",
    "        return global_"
   ]
  },
  {
   "cell_type": "code",
   "execution_count": 9,
   "metadata": {},
   "outputs": [
    {
     "data": {
      "application/vnd.jupyter.widget-view+json": {
       "model_id": "1fae550abcc34373b6540107bb5b8ba9",
       "version_major": 2,
       "version_minor": 0
      },
      "text/plain": [
       "Epoch:   0%|          | 0/5 [00:00<?, ?it/s]"
      ]
     },
     "metadata": {},
     "output_type": "display_data"
    },
    {
     "data": {
      "application/vnd.jupyter.widget-view+json": {
       "model_id": "0db065560d6b4760bed44bbd55625400",
       "version_major": 2,
       "version_minor": 0
      },
      "text/plain": [
       "  0%|          | 0/2000 [00:00<?, ?it/s]"
      ]
     },
     "metadata": {},
     "output_type": "display_data"
    },
    {
     "data": {
      "application/vnd.jupyter.widget-view+json": {
       "model_id": "628ef396c1e349ccb786f9ea61527cae",
       "version_major": 2,
       "version_minor": 0
      },
      "text/plain": [
       "  0%|          | 0/2000 [00:00<?, ?it/s]"
      ]
     },
     "metadata": {},
     "output_type": "display_data"
    },
    {
     "data": {
      "application/vnd.jupyter.widget-view+json": {
       "model_id": "4b789b89323b43b6820e55cc502bfe5f",
       "version_major": 2,
       "version_minor": 0
      },
      "text/plain": [
       "  0%|          | 0/2000 [00:00<?, ?it/s]"
      ]
     },
     "metadata": {},
     "output_type": "display_data"
    },
    {
     "data": {
      "application/vnd.jupyter.widget-view+json": {
       "model_id": "7e41ea22db7d4761a0b44e9c941eaec9",
       "version_major": 2,
       "version_minor": 0
      },
      "text/plain": [
       "  0%|          | 0/2000 [00:00<?, ?it/s]"
      ]
     },
     "metadata": {},
     "output_type": "display_data"
    },
    {
     "data": {
      "application/vnd.jupyter.widget-view+json": {
       "model_id": "b8ca2c20f1f64612a891e517563e5f32",
       "version_major": 2,
       "version_minor": 0
      },
      "text/plain": [
       "  0%|          | 0/2000 [00:00<?, ?it/s]"
      ]
     },
     "metadata": {},
     "output_type": "display_data"
    },
    {
     "name": "stderr",
     "output_type": "stream",
     "text": [
      "[13:11:54] INFO: Best solution cost: 1,589, found in 1,210 steps (9,847 total evaluations)\n"
     ]
    }
   ],
   "source": [
    "np.random.seed(SEED)\n",
    "\n",
    "best_solution = None\n",
    "last_improvement = 0\n",
    "\n",
    "tot_evaluations = 0\n",
    "\n",
    "for epoch in tqdm(range(5), position=0, desc=\"Epoch\"):\n",
    "    solution = new_starting_position(best_solution, None)\n",
    "    for step in tqdm(range(2 * NUM_STEPS), position=1):\n",
    "        new_solution = tweak(solution)\n",
    "        if not is_valid(new_solution):\n",
    "            continue\n",
    "        tot_evaluations += 1\n",
    "\n",
    "        if not is_valid(solution) or solution_cost(new_solution) < solution_cost(solution):\n",
    "            solution = new_solution\n",
    "            if best_solution is None or solution_cost(solution) < solution_cost(best_solution):\n",
    "                last_improvement = step\n",
    "                best_solution = np.copy(solution)\n",
    "                logging.debug(\n",
    "                    f\"Solution: {sol2set(best_solution)} with cost of {solution_cost(best_solution):,}, found in {last_improvement:,} steps\"\n",
    "                )\n",
    "\n",
    "logging.info(\n",
    "    f\"Best solution cost: {solution_cost(best_solution):,}, found in {last_improvement:,} steps ({tot_evaluations:,} total evaluations)\"\n",
    ")"
   ]
  }
 ],
 "metadata": {
  "interpreter": {
   "hash": "81583c29eb1de1e2763f7f94748c11ed9fb4fb1823d30e61923417a9f34f86b1"
  },
  "kernelspec": {
   "display_name": "Python 3.9.7 64-bit ('ci2021': conda)",
   "name": "python3"
  },
  "language_info": {
   "codemirror_mode": {
    "name": "ipython",
    "version": 3
   },
   "file_extension": ".py",
   "mimetype": "text/x-python",
   "name": "python",
   "nbconvert_exporter": "python",
   "pygments_lexer": "ipython3",
   "version": "3.8.0"
  },
  "orig_nbformat": 4
 },
 "nbformat": 4,
 "nbformat_minor": 2
}
