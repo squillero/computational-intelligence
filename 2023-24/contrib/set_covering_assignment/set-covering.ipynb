{
 "cells": [
  {
   "cell_type": "markdown",
   "metadata": {},
   "source": [
    "Copyright **`(c)`** 2023 Giovanni Squillero `<giovanni.squillero@polito.it>`  \n",
    "[`https://github.com/squillero/computational-intelligence`](https://github.com/squillero/computational-intelligence)  \n",
    "Free for personal or classroom use; see [`LICENSE.md`](https://github.com/squillero/computational-intelligence/blob/master/LICENSE.md) for details.  "
   ]
  },
  {
   "cell_type": "code",
   "execution_count": 1178,
   "metadata": {},
   "outputs": [],
   "source": [
    "from random import random\n",
    "from functools import reduce\n",
    "from collections import namedtuple\n",
    "from queue import PriorityQueue\n",
    "\n",
    "import numpy as np"
   ]
  },
  {
   "cell_type": "code",
   "execution_count": 1179,
   "metadata": {},
   "outputs": [],
   "source": [
    "PROBLEM_SIZE = 10\n",
    "NUM_SETS = 10\n",
    "SETS = tuple(\n",
    "    np.array([random() < 0.3 for _ in range(PROBLEM_SIZE)]) for _ in range(NUM_SETS)\n",
    ")\n",
    "\n",
    "State = namedtuple(\"State\", [\"taken\", \"not_taken\"])"
   ]
  },
  {
   "cell_type": "code",
   "execution_count": 1180,
   "metadata": {},
   "outputs": [],
   "source": [
    "# find if exist a possible solution\n",
    "def goal_check(state):      \n",
    "    return np.all(total_state(state.taken))\n",
    "\n",
    "# find how many false it takes\n",
    "def distance(state):         \n",
    "    return PROBLEM_SIZE - sum(state)\n",
    "\n",
    "\n",
    "# compute logical or between all the set taken in the current state\n",
    "def total_state(state):     \n",
    "    return reduce(\n",
    "        np.logical_or,\n",
    "        [SETS[i] for i in state],\n",
    "        np.array([False for _ in range(PROBLEM_SIZE)]),\n",
    "    )\n",
    "\n",
    "\n",
    "# key function to sort the untaken set of the current state using the amount of overlapping with the taken set and\n",
    "# the distance of the untaken set \n",
    "def sorting_for_overlapping(e, state):      \n",
    "    return sum(np.logical_and(state, SETS[e]))+ distance(SETS[e])\n",
    "\n",
    "\n",
    "def function(current_state):\n",
    "    tot_current_state = total_state(current_state.taken)\n",
    "\n",
    "    sorted_untaken = sorted(\n",
    "        current_state.not_taken, key=lambda e: sorting_for_overlapping(e, tot_current_state)\n",
    "    )\n",
    "\n",
    "    h = 0\n",
    "    # h is the number of untaken sets necessary to cover all the remaining false of the current state\n",
    "    # the untaken sets were sorted, so if one of them can fill the state, it will be the first of the list\n",
    "    for action in sorted_untaken:\n",
    "        if distance(tot_current_state) == 0:\n",
    "            break\n",
    "        tot_current_state = np.logical_or(tot_current_state, SETS[action])\n",
    "        h += 1\n",
    "\n",
    "\n",
    "    # h is my heuristic, the g of the A* algorithm is the number of taken state\n",
    "    return h + len(current_state.taken)"
   ]
  },
  {
   "cell_type": "code",
   "execution_count": 1181,
   "metadata": {},
   "outputs": [],
   "source": [
    "assert goal_check(State(set(range(NUM_SETS)), set())), \"Problem not solvable\""
   ]
  },
  {
   "cell_type": "code",
   "execution_count": 1182,
   "metadata": {},
   "outputs": [],
   "source": [
    "# sort SETS considering the number of false of each single set\n",
    "def sorting_key(e):\n",
    "    return e.sum()\n",
    "\n",
    "\n",
    "def get_ordered_sets():\n",
    "    return sorted(SETS, reverse=True, key=sorting_key)"
   ]
  },
  {
   "cell_type": "code",
   "execution_count": 1183,
   "metadata": {},
   "outputs": [],
   "source": [
    "# function to force some blocks if these are the only ones which cover some True position\n",
    "def get_mandatory_blocks():\n",
    "    unic_list = np.vstack(SETS).sum(0)\n",
    "\n",
    "    if 1 not in unic_list:\n",
    "        return State(set(), set(range(NUM_SETS)))\n",
    "\n",
    "    ind = [\n",
    "        index\n",
    "        for index, s in enumerate(SETS)\n",
    "        if any(unic_list[i] == 1 and s[i] == True for i in range(PROBLEM_SIZE))\n",
    "    ]\n",
    "    return State(set(ind), set(range(NUM_SETS)) - set(ind))"
   ]
  },
  {
   "cell_type": "code",
   "execution_count": 1184,
   "metadata": {},
   "outputs": [
    {
     "name": "stdout",
     "output_type": "stream",
     "text": [
      "Solved in 1 steps (4 tiles)\n"
     ]
    }
   ],
   "source": [
    "frontier = PriorityQueue()\n",
    "SETS = get_ordered_sets()\n",
    "state = get_mandatory_blocks()\n",
    "\n",
    "frontier.put((function(state), state))\n",
    "\n",
    "\n",
    "_, current_state = frontier.get()\n",
    "counter = 0 \n",
    "solution = None if not goal_check(current_state) else current_state\n",
    "\n",
    "\n",
    "while solution is None:\n",
    "    counter += 1\n",
    "    for action in current_state[1]:\n",
    "        new_state = State(\n",
    "            current_state.taken ^ {action},\n",
    "            current_state.not_taken ^ {action},\n",
    "        )\n",
    " \n",
    "        frontier.put((function(new_state), new_state))\n",
    "        \n",
    "        if distance(total_state(new_state.taken)) == 0:\n",
    "            solution = new_state\n",
    "            break\n",
    "    _, current_state = frontier.get()\n",
    "\n",
    "\n",
    "\n",
    "print(f\"Solved in {counter:,} steps ({len(solution.taken)} tiles)\")"
   ]
  },
  {
   "cell_type": "code",
   "execution_count": 1185,
   "metadata": {},
   "outputs": [
    {
     "data": {
      "text/plain": [
       "{0, 1, 2, 3}"
      ]
     },
     "execution_count": 1185,
     "metadata": {},
     "output_type": "execute_result"
    }
   ],
   "source": [
    "solution.taken"
   ]
  }
 ],
 "metadata": {
  "kernelspec": {
   "display_name": "ci-P-7LqQ3C-py3.11",
   "language": "python",
   "name": "python3"
  },
  "language_info": {
   "codemirror_mode": {
    "name": "ipython",
    "version": 3
   },
   "file_extension": ".py",
   "mimetype": "text/x-python",
   "name": "python",
   "nbconvert_exporter": "python",
   "pygments_lexer": "ipython3",
   "version": "3.12.0"
  }
 },
 "nbformat": 4,
 "nbformat_minor": 2
}
