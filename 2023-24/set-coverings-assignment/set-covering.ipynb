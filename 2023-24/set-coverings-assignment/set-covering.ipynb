{
 "cells": [
  {
   "cell_type": "markdown",
   "metadata": {},
   "source": [
    "Copyright **`(c)`** 2023 Giovanni Squillero `<giovanni.squillero@polito.it>`  \n",
    "[`https://github.com/squillero/computational-intelligence`](https://github.com/squillero/computational-intelligence)  \n",
    "Free for personal or classroom use; see [`LICENSE.md`](https://github.com/squillero/computational-intelligence/blob/master/LICENSE.md) for details.  "
   ]
  },
  {
   "cell_type": "code",
   "execution_count": 369,
   "metadata": {},
   "outputs": [],
   "source": [
    "from random import random\n",
    "from math import ceil\n",
    "from functools import reduce\n",
    "from collections import namedtuple, deque\n",
    "from queue import PriorityQueue\n",
    "\n",
    "import numpy as np\n",
    "from tqdm.auto import tqdm\n",
    "\n",
    "ENABLE_PREPROCESSING=False"
   ]
  },
  {
   "cell_type": "code",
   "execution_count": 370,
   "metadata": {},
   "outputs": [],
   "source": [
    "State = namedtuple('State', ['taken', 'not_taken'])\n",
    "\n",
    "def join_taken(state):\n",
    "    return reduce(\n",
    "        np.logical_or,\n",
    "        [SETS[i] for i in state.taken],\n",
    "        np.array([False for _ in range(PROBLEM_SIZE)]),\n",
    "    )\n",
    "\n",
    "def goal_check(state):\n",
    "    return np.all(join_taken(state))"
   ]
  },
  {
   "cell_type": "code",
   "execution_count": 371,
   "metadata": {},
   "outputs": [],
   "source": [
    "PROBLEM_SIZE = 10\n",
    "NUM_SETS = 10\n",
    "SETS = list(np.array([random() < 0.3 for _ in range(PROBLEM_SIZE)]) for _ in range(NUM_SETS))\n",
    "\n",
    "assert goal_check(State(set(range(NUM_SETS)), set())), \"Probelm not solvable\"\n"
   ]
  },
  {
   "cell_type": "code",
   "execution_count": 372,
   "metadata": {},
   "outputs": [],
   "source": [
    "# preproccesing\n",
    "def forced_sets():\n",
    "    check_covered_by_one=np.vstack(SETS).sum(0)\n",
    "\n",
    "    if 1 not in check_covered_by_one:\n",
    "        return State(set(),set(range(NUM_SETS)))\n",
    "\n",
    "    forced_list = [\n",
    "        index\n",
    "        for index, s in enumerate(SETS)\n",
    "        if any(check_covered_by_one[i] == 1 and s[i] == True for i in range(PROBLEM_SIZE))\n",
    "    ]\n",
    "    return State(set(forced_list), set(range(NUM_SETS)) - set(forced_list))\n",
    "\n",
    "def set_sorting_preprocessing():\n",
    "    return sorted(SETS,reverse=True,key=lambda e: sum(e)) #ordering respect ascending number of True is better\n",
    "    "
   ]
  },
  {
   "cell_type": "code",
   "execution_count": 373,
   "metadata": {},
   "outputs": [],
   "source": [
    "\n",
    "def missing_coverage(state):\n",
    "    return PROBLEM_SIZE-sum(state)\n",
    "\n",
    "def calc_overlap_and_false_number(state,e):\n",
    "    return sum( np.logical_and(\n",
    "        state, SETS[e])) + missing_coverage(SETS[e])\n",
    "\n",
    "def calc_extension(state,e):\n",
    "    ext=0\n",
    "    for i in state.taken:\n",
    "        for j in range(PROBLEM_SIZE):\n",
    "            if SETS[i][j]==False and SETS[e][j]==True:\n",
    "                ext+=1\n",
    "    return ext\n",
    "\n",
    "def my_h(state,e):    \n",
    "    return calc_overlap_and_false_number(join_taken(state), e)+calc_extension(state,e)\n",
    "\n",
    "def my_h2(state):\n",
    "    joined_taken=join_taken(state)\n",
    "    \n",
    "    not_taken_sorted_by_overlap=sorted(state.not_taken,key=lambda e:calc_overlap_and_false_number(joined_taken,e))    \n",
    "\n",
    "    sets_still_needed=0\n",
    "    for s in not_taken_sorted_by_overlap:\n",
    "        \n",
    "        if missing_coverage(joined_taken)==0:\n",
    "            break\n",
    "        joined_taken = np.logical_or(joined_taken,SETS[s])\n",
    "        sets_still_needed+=1\n",
    "        \n",
    "    return sets_still_needed    \n",
    "\n",
    "def f(state):\n",
    "    #return len(state[0].taken)+my_h(state[0],state[1])\n",
    "    return len(state.taken) + my_h2(state)"
   ]
  },
  {
   "cell_type": "code",
   "execution_count": 374,
   "metadata": {},
   "outputs": [
    {
     "name": "stderr",
     "output_type": "stream",
     "text": [
      "7it [00:00, 701.61it/s]"
     ]
    },
    {
     "name": "stdout",
     "output_type": "stream",
     "text": [
      "Solved in 7 steps (3 tiles)\n"
     ]
    },
    {
     "name": "stderr",
     "output_type": "stream",
     "text": [
      "\n"
     ]
    }
   ],
   "source": [
    "frontier = PriorityQueue()\n",
    "\n",
    "if ENABLE_PREPROCESSING==True:\n",
    "    state = forced_sets()\n",
    "    SETS=set_sorting_preprocessing()\n",
    "else:\n",
    "    state = State(set(), set(range(NUM_SETS)))\n",
    "    \n",
    "frontier.put((0, state))\n",
    "\n",
    "counter = 0\n",
    "_, current_state = frontier.get()\n",
    "with tqdm(total=None) as pbar:\n",
    "    while not goal_check(current_state):\n",
    "        counter += 1\n",
    "        #cost=f((current_state,action))\n",
    "        for action in current_state.not_taken:\n",
    "            new_state = State(\n",
    "                current_state.taken ^ {action},\n",
    "                current_state.not_taken ^ {action},\n",
    "            )\n",
    "            frontier.put((f(new_state), new_state))\n",
    "            #frontier.put((cost, new_state))\n",
    "        _, current_state = frontier.get()\n",
    "        pbar.update(1)\n",
    "\n",
    "print(f\"Solved in {counter:,} steps ({len(current_state.taken)} tiles)\")"
   ]
  },
  {
   "cell_type": "code",
   "execution_count": 375,
   "metadata": {},
   "outputs": [
    {
     "data": {
      "text/plain": [
       "{1, 8, 9}"
      ]
     },
     "execution_count": 375,
     "metadata": {},
     "output_type": "execute_result"
    }
   ],
   "source": [
    "current_state.taken"
   ]
  }
 ],
 "metadata": {
  "kernelspec": {
   "display_name": "Python 3 (ipykernel)",
   "language": "python",
   "name": "python3"
  },
  "language_info": {
   "codemirror_mode": {
    "name": "ipython",
    "version": 3
   },
   "file_extension": ".py",
   "mimetype": "text/x-python",
   "name": "python",
   "nbconvert_exporter": "python",
   "pygments_lexer": "ipython3",
   "version": "3.12.0"
  }
 },
 "nbformat": 4,
 "nbformat_minor": 4
}
