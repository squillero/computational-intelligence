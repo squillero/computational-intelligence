{
 "cells": [
  {
   "cell_type": "markdown",
   "metadata": {},
   "source": [
    "Copyright **`(c)`** 2021 Giovanni Squillero `<squillero@polito.it>`  \n",
    "[`https://github.com/squillero/computational-intelligence`](https://github.com/squillero/computational-intelligence)  \n",
    "Free for personal or classroom use; see 'LICENCE.md' for details."
   ]
  },
  {
   "cell_type": "code",
   "execution_count": 1,
   "metadata": {},
   "outputs": [],
   "source": [
    "from itertools import permutations\n",
    "import numpy as np"
   ]
  },
  {
   "cell_type": "code",
   "execution_count": 2,
   "metadata": {},
   "outputs": [],
   "source": [
    "TICTACTOE_MAP = np.array([[1, 6, 5], [8, 4, 0], [3, 2, 7]])\n",
    "\n",
    "\n",
    "def display(x, o):\n",
    "    for r in range(3):\n",
    "        for c in range(3):\n",
    "            if TICTACTOE_MAP[r, c] in x:\n",
    "                print(\"X\", end=\" \")\n",
    "            elif TICTACTOE_MAP[r, c] in o:\n",
    "                print(\"O\", end=\" \")\n",
    "            else:\n",
    "                print(\".\", end=\" \")\n",
    "        print()"
   ]
  },
  {
   "cell_type": "code",
   "execution_count": 1,
   "metadata": {},
   "outputs": [],
   "source": [
    "def won(cells):\n",
    "    return any(sum(h) == 12 for h in permutations(cells, 3))\n",
    "\n",
    "\n",
    "def eval_terminal(x, o):\n",
    "    if won(x):\n",
    "        return 1\n",
    "    elif won(o):\n",
    "        return -1\n",
    "    else:\n",
    "        return 0"
   ]
  },
  {
   "cell_type": "code",
   "execution_count": 4,
   "metadata": {},
   "outputs": [],
   "source": [
    "def minmax(board):\n",
    "    val = eval_terminal(*board)\n",
    "    possible = list(set(range(9)) - board[0] - board[1])\n",
    "    if val != 0 or not possible:\n",
    "        return None, val\n",
    "    evaluations = list()\n",
    "    for ply in possible:\n",
    "        _, val = minmax((board[1], board[0] | {ply}))\n",
    "        evaluations.append((ply, -val))\n",
    "    return max(evaluations, key=lambda k: k[1])"
   ]
  },
  {
   "cell_type": "code",
   "execution_count": 5,
   "metadata": {},
   "outputs": [
    {
     "name": "stdout",
     "output_type": "stream",
     "text": [
      "X . O \n",
      "O . . \n",
      "X . . \n",
      "\n",
      "X . O \n",
      "O . . \n",
      "X . X \n"
     ]
    }
   ],
   "source": [
    "p = ({1, 3}, {5, 8})\n",
    "display(*p)\n",
    "print()\n",
    "best_ply, eval = minmax(p)\n",
    "display(p[0] | {best_ply}, p[1])"
   ]
  },
  {
   "cell_type": "code",
   "execution_count": null,
   "metadata": {},
   "outputs": [],
   "source": []
  }
 ],
 "metadata": {
  "interpreter": {
   "hash": "81583c29eb1de1e2763f7f94748c11ed9fb4fb1823d30e61923417a9f34f86b1"
  },
  "kernelspec": {
   "display_name": "Python 3.9.7 64-bit ('ci2021': conda)",
   "name": "python3"
  },
  "language_info": {
   "codemirror_mode": {
    "name": "ipython",
    "version": 3
   },
   "file_extension": ".py",
   "mimetype": "text/x-python",
   "name": "python",
   "nbconvert_exporter": "python",
   "pygments_lexer": "ipython3",
   "version": "3.9.7"
  },
  "orig_nbformat": 4
 },
 "nbformat": 4,
 "nbformat_minor": 2
}
