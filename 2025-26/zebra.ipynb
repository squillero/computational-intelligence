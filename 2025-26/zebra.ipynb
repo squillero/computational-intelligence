{
 "cells": [
  {
   "cell_type": "markdown",
   "id": "11fa4375",
   "metadata": {},
   "source": [
    "Copyright **`(c)`** 2025 Giovanni Squillero `<giovanni.squillero@polito.it>`  \n",
    "[`https://github.com/squillero/computational-intelligence`](https://github.com/squillero/computational-intelligence)  \n",
    "Free under certain conditions — see the [`license`](https://github.com/squillero/computational-intelligence/blob/master/LICENSE.md) for details.  "
   ]
  },
  {
   "cell_type": "code",
   "execution_count": 63,
   "id": "c0882a9f",
   "metadata": {},
   "outputs": [],
   "source": [
    "from copy import deepcopy\n",
    "from random import randint, choice\n",
    "from icecream import ic"
   ]
  },
  {
   "cell_type": "code",
   "execution_count": 64,
   "id": "f3f098a9",
   "metadata": {},
   "outputs": [],
   "source": [
    "# Thanks to Andrea!"
   ]
  },
  {
   "cell_type": "code",
   "execution_count": 65,
   "id": "b7c43278",
   "metadata": {},
   "outputs": [],
   "source": [
    "NUM_ITEMS = 5\n",
    "NUM_CATEGORIES = 3"
   ]
  },
  {
   "cell_type": "code",
   "execution_count": null,
   "id": "9b416f2a",
   "metadata": {},
   "outputs": [],
   "source": [
    "ITEMS = [[(c, n) for n in range(NUM_ITEMS)] for c in range(NUM_CATEGORIES)]\n",
    "INCOMPATIBILITIES = [\n",
    "    {\n",
    "        (randint(0, NUM_CATEGORIES - 1), randint(0, NUM_ITEMS - 1)),\n",
    "        (randint(0, NUM_CATEGORIES - 1), randint(0, NUM_ITEMS - 1)),\n",
    "    }\n",
    "    for _ in range(20)\n",
    "]"
   ]
  },
  {
   "cell_type": "code",
   "execution_count": null,
   "id": "15be4421",
   "metadata": {},
   "outputs": [],
   "source": [
    "def invalid(bag: set) -> bool:\n",
    "    return any(i <= bag for i in INCOMPATIBILITIES)\n",
    "\n",
    "\n",
    "def cost(solution: list[set]) -> int:\n",
    "    return sum(invalid(b) for b in solution)"
   ]
  },
  {
   "cell_type": "code",
   "execution_count": null,
   "id": "c6daffa7",
   "metadata": {},
   "outputs": [],
   "source": [
    "def tweak(bag: list[set]) -> list[set]:\n",
    "    new_bag = deepcopy(bag)\n",
    "    b1 = choice([i for i in range(NUM_ITEMS) if invalid(bag[i])])\n",
    "    b2 = randint(0, NUM_ITEMS - 1)\n",
    "    b1_, b2_ = sorted(new_bag[b1]), sorted(new_bag[b2])\n",
    "    i = randint(0, NUM_CATEGORIES - 1)\n",
    "    b1_[i], b2_[i] = b2_[i], b1_[i]\n",
    "    new_bag[b1], new_bag[b2] = set(b1_), set(b2_)\n",
    "    return new_bag"
   ]
  },
  {
   "cell_type": "code",
   "execution_count": null,
   "id": "af664e45",
   "metadata": {},
   "outputs": [
    {
     "name": "stderr",
     "output_type": "stream",
     "text": [
      "ic| current_cost: 2\n",
      "ic| current_cost: 1\n"
     ]
    },
    {
     "ename": "KeyboardInterrupt",
     "evalue": "",
     "output_type": "error",
     "traceback": [
      "\u001b[31m---------------------------------------------------------------------------\u001b[39m",
      "\u001b[31mKeyboardInterrupt\u001b[39m                         Traceback (most recent call last)",
      "\u001b[36mCell\u001b[39m\u001b[36m \u001b[39m\u001b[32mIn[69]\u001b[39m\u001b[32m, line 6\u001b[39m\n\u001b[32m      4\u001b[39m \u001b[38;5;66;03m# randomize it\u001b[39;00m\n\u001b[32m      5\u001b[39m \u001b[38;5;28;01mwhile\u001b[39;00m current_cost > \u001b[32m0\u001b[39m:\n\u001b[32m----> \u001b[39m\u001b[32m6\u001b[39m     new_solution = \u001b[43mtweak\u001b[49m\u001b[43m(\u001b[49m\u001b[43mcurrent_solution\u001b[49m\u001b[43m)\u001b[49m\n\u001b[32m      7\u001b[39m     new_cost = cost(new_solution)\n\u001b[32m      8\u001b[39m     \u001b[38;5;28;01mif\u001b[39;00m new_cost < current_cost:\n",
      "\u001b[36mCell\u001b[39m\u001b[36m \u001b[39m\u001b[32mIn[68]\u001b[39m\u001b[32m, line 2\u001b[39m, in \u001b[36mtweak\u001b[39m\u001b[34m(bag)\u001b[39m\n\u001b[32m      1\u001b[39m \u001b[38;5;28;01mdef\u001b[39;00m\u001b[38;5;250m \u001b[39m\u001b[34mtweak\u001b[39m(bag: \u001b[38;5;28mlist\u001b[39m[\u001b[38;5;28mset\u001b[39m]) -> \u001b[38;5;28mlist\u001b[39m[\u001b[38;5;28mset\u001b[39m]:\n\u001b[32m----> \u001b[39m\u001b[32m2\u001b[39m     new_bag = \u001b[43mdeepcopy\u001b[49m\u001b[43m(\u001b[49m\u001b[43mbag\u001b[49m\u001b[43m)\u001b[49m\n\u001b[32m      3\u001b[39m     b1 = choice([i \u001b[38;5;28;01mfor\u001b[39;00m i \u001b[38;5;129;01min\u001b[39;00m \u001b[38;5;28mrange\u001b[39m(NUM_ITEMS) \u001b[38;5;28;01mif\u001b[39;00m invalid(bag[i])])\n\u001b[32m      4\u001b[39m     b2 = randint(\u001b[32m0\u001b[39m, NUM_ITEMS-\u001b[32m1\u001b[39m)\n",
      "\u001b[36mFile \u001b[39m\u001b[32mC:\\Program Files\\Python313\\Lib\\copy.py:137\u001b[39m, in \u001b[36mdeepcopy\u001b[39m\u001b[34m(x, memo, _nil)\u001b[39m\n\u001b[32m    135\u001b[39m copier = _deepcopy_dispatch.get(\u001b[38;5;28mcls\u001b[39m)\n\u001b[32m    136\u001b[39m \u001b[38;5;28;01mif\u001b[39;00m copier \u001b[38;5;129;01mis\u001b[39;00m \u001b[38;5;129;01mnot\u001b[39;00m \u001b[38;5;28;01mNone\u001b[39;00m:\n\u001b[32m--> \u001b[39m\u001b[32m137\u001b[39m     y = \u001b[43mcopier\u001b[49m\u001b[43m(\u001b[49m\u001b[43mx\u001b[49m\u001b[43m,\u001b[49m\u001b[43m \u001b[49m\u001b[43mmemo\u001b[49m\u001b[43m)\u001b[49m\n\u001b[32m    138\u001b[39m \u001b[38;5;28;01melse\u001b[39;00m:\n\u001b[32m    139\u001b[39m     \u001b[38;5;28;01mif\u001b[39;00m \u001b[38;5;28missubclass\u001b[39m(\u001b[38;5;28mcls\u001b[39m, \u001b[38;5;28mtype\u001b[39m):\n",
      "\u001b[36mFile \u001b[39m\u001b[32mC:\\Program Files\\Python313\\Lib\\copy.py:197\u001b[39m, in \u001b[36m_deepcopy_list\u001b[39m\u001b[34m(x, memo, deepcopy)\u001b[39m\n\u001b[32m    195\u001b[39m append = y.append\n\u001b[32m    196\u001b[39m \u001b[38;5;28;01mfor\u001b[39;00m a \u001b[38;5;129;01min\u001b[39;00m x:\n\u001b[32m--> \u001b[39m\u001b[32m197\u001b[39m     append(\u001b[43mdeepcopy\u001b[49m\u001b[43m(\u001b[49m\u001b[43ma\u001b[49m\u001b[43m,\u001b[49m\u001b[43m \u001b[49m\u001b[43mmemo\u001b[49m\u001b[43m)\u001b[49m)\n\u001b[32m    198\u001b[39m \u001b[38;5;28;01mreturn\u001b[39;00m y\n",
      "\u001b[36mFile \u001b[39m\u001b[32mC:\\Program Files\\Python313\\Lib\\copy.py:163\u001b[39m, in \u001b[36mdeepcopy\u001b[39m\u001b[34m(x, memo, _nil)\u001b[39m\n\u001b[32m    161\u001b[39m                 y = x\n\u001b[32m    162\u001b[39m             \u001b[38;5;28;01melse\u001b[39;00m:\n\u001b[32m--> \u001b[39m\u001b[32m163\u001b[39m                 y = \u001b[43m_reconstruct\u001b[49m\u001b[43m(\u001b[49m\u001b[43mx\u001b[49m\u001b[43m,\u001b[49m\u001b[43m \u001b[49m\u001b[43mmemo\u001b[49m\u001b[43m,\u001b[49m\u001b[43m \u001b[49m\u001b[43m*\u001b[49m\u001b[43mrv\u001b[49m\u001b[43m)\u001b[49m\n\u001b[32m    165\u001b[39m \u001b[38;5;66;03m# If is its own copy, don't memoize.\u001b[39;00m\n\u001b[32m    166\u001b[39m \u001b[38;5;28;01mif\u001b[39;00m y \u001b[38;5;129;01mis\u001b[39;00m \u001b[38;5;129;01mnot\u001b[39;00m x:\n",
      "\u001b[36mFile \u001b[39m\u001b[32mC:\\Program Files\\Python313\\Lib\\copy.py:254\u001b[39m, in \u001b[36m_reconstruct\u001b[39m\u001b[34m(x, memo, func, args, state, listiter, dictiter, deepcopy)\u001b[39m\n\u001b[32m    252\u001b[39m \u001b[38;5;28;01mif\u001b[39;00m deep \u001b[38;5;129;01mand\u001b[39;00m args:\n\u001b[32m    253\u001b[39m     args = (deepcopy(arg, memo) \u001b[38;5;28;01mfor\u001b[39;00m arg \u001b[38;5;129;01min\u001b[39;00m args)\n\u001b[32m--> \u001b[39m\u001b[32m254\u001b[39m y = \u001b[43mfunc\u001b[49m\u001b[43m(\u001b[49m\u001b[43m*\u001b[49m\u001b[43margs\u001b[49m\u001b[43m)\u001b[49m\n\u001b[32m    255\u001b[39m \u001b[38;5;28;01mif\u001b[39;00m deep:\n\u001b[32m    256\u001b[39m     memo[\u001b[38;5;28mid\u001b[39m(x)] = y\n",
      "\u001b[36mFile \u001b[39m\u001b[32mC:\\Program Files\\Python313\\Lib\\copy.py:253\u001b[39m, in \u001b[36m<genexpr>\u001b[39m\u001b[34m(.0)\u001b[39m\n\u001b[32m    251\u001b[39m deep = memo \u001b[38;5;129;01mis\u001b[39;00m \u001b[38;5;129;01mnot\u001b[39;00m \u001b[38;5;28;01mNone\u001b[39;00m\n\u001b[32m    252\u001b[39m \u001b[38;5;28;01mif\u001b[39;00m deep \u001b[38;5;129;01mand\u001b[39;00m args:\n\u001b[32m--> \u001b[39m\u001b[32m253\u001b[39m     args = (\u001b[43mdeepcopy\u001b[49m\u001b[43m(\u001b[49m\u001b[43marg\u001b[49m\u001b[43m,\u001b[49m\u001b[43m \u001b[49m\u001b[43mmemo\u001b[49m\u001b[43m)\u001b[49m \u001b[38;5;28;01mfor\u001b[39;00m arg \u001b[38;5;129;01min\u001b[39;00m args)\n\u001b[32m    254\u001b[39m y = func(*args)\n\u001b[32m    255\u001b[39m \u001b[38;5;28;01mif\u001b[39;00m deep:\n",
      "\u001b[36mFile \u001b[39m\u001b[32mC:\\Program Files\\Python313\\Lib\\copy.py:137\u001b[39m, in \u001b[36mdeepcopy\u001b[39m\u001b[34m(x, memo, _nil)\u001b[39m\n\u001b[32m    135\u001b[39m copier = _deepcopy_dispatch.get(\u001b[38;5;28mcls\u001b[39m)\n\u001b[32m    136\u001b[39m \u001b[38;5;28;01mif\u001b[39;00m copier \u001b[38;5;129;01mis\u001b[39;00m \u001b[38;5;129;01mnot\u001b[39;00m \u001b[38;5;28;01mNone\u001b[39;00m:\n\u001b[32m--> \u001b[39m\u001b[32m137\u001b[39m     y = \u001b[43mcopier\u001b[49m\u001b[43m(\u001b[49m\u001b[43mx\u001b[49m\u001b[43m,\u001b[49m\u001b[43m \u001b[49m\u001b[43mmemo\u001b[49m\u001b[43m)\u001b[49m\n\u001b[32m    138\u001b[39m \u001b[38;5;28;01melse\u001b[39;00m:\n\u001b[32m    139\u001b[39m     \u001b[38;5;28;01mif\u001b[39;00m \u001b[38;5;28missubclass\u001b[39m(\u001b[38;5;28mcls\u001b[39m, \u001b[38;5;28mtype\u001b[39m):\n",
      "\u001b[36mFile \u001b[39m\u001b[32mC:\\Program Files\\Python313\\Lib\\copy.py:197\u001b[39m, in \u001b[36m_deepcopy_list\u001b[39m\u001b[34m(x, memo, deepcopy)\u001b[39m\n\u001b[32m    195\u001b[39m append = y.append\n\u001b[32m    196\u001b[39m \u001b[38;5;28;01mfor\u001b[39;00m a \u001b[38;5;129;01min\u001b[39;00m x:\n\u001b[32m--> \u001b[39m\u001b[32m197\u001b[39m     append(\u001b[43mdeepcopy\u001b[49m\u001b[43m(\u001b[49m\u001b[43ma\u001b[49m\u001b[43m,\u001b[49m\u001b[43m \u001b[49m\u001b[43mmemo\u001b[49m\u001b[43m)\u001b[49m)\n\u001b[32m    198\u001b[39m \u001b[38;5;28;01mreturn\u001b[39;00m y\n",
      "\u001b[36mFile \u001b[39m\u001b[32mC:\\Program Files\\Python313\\Lib\\copy.py:137\u001b[39m, in \u001b[36mdeepcopy\u001b[39m\u001b[34m(x, memo, _nil)\u001b[39m\n\u001b[32m    135\u001b[39m copier = _deepcopy_dispatch.get(\u001b[38;5;28mcls\u001b[39m)\n\u001b[32m    136\u001b[39m \u001b[38;5;28;01mif\u001b[39;00m copier \u001b[38;5;129;01mis\u001b[39;00m \u001b[38;5;129;01mnot\u001b[39;00m \u001b[38;5;28;01mNone\u001b[39;00m:\n\u001b[32m--> \u001b[39m\u001b[32m137\u001b[39m     y = \u001b[43mcopier\u001b[49m\u001b[43m(\u001b[49m\u001b[43mx\u001b[49m\u001b[43m,\u001b[49m\u001b[43m \u001b[49m\u001b[43mmemo\u001b[49m\u001b[43m)\u001b[49m\n\u001b[32m    138\u001b[39m \u001b[38;5;28;01melse\u001b[39;00m:\n\u001b[32m    139\u001b[39m     \u001b[38;5;28;01mif\u001b[39;00m \u001b[38;5;28missubclass\u001b[39m(\u001b[38;5;28mcls\u001b[39m, \u001b[38;5;28mtype\u001b[39m):\n",
      "\u001b[36mFile \u001b[39m\u001b[32mC:\\Program Files\\Python313\\Lib\\copy.py:201\u001b[39m, in \u001b[36m_deepcopy_tuple\u001b[39m\u001b[34m(x, memo, deepcopy)\u001b[39m\n\u001b[32m    198\u001b[39m     \u001b[38;5;28;01mreturn\u001b[39;00m y\n\u001b[32m    199\u001b[39m d[\u001b[38;5;28mlist\u001b[39m] = _deepcopy_list\n\u001b[32m--> \u001b[39m\u001b[32m201\u001b[39m \u001b[38;5;28;01mdef\u001b[39;00m\u001b[38;5;250m \u001b[39m\u001b[34m_deepcopy_tuple\u001b[39m(x, memo, deepcopy=deepcopy):\n\u001b[32m    202\u001b[39m     y = [deepcopy(a, memo) \u001b[38;5;28;01mfor\u001b[39;00m a \u001b[38;5;129;01min\u001b[39;00m x]\n\u001b[32m    203\u001b[39m     \u001b[38;5;66;03m# We're not going to put the tuple in the memo, but it's still important we\u001b[39;00m\n\u001b[32m    204\u001b[39m     \u001b[38;5;66;03m# check for it, in case the tuple contains recursive mutable structures.\u001b[39;00m\n",
      "\u001b[31mKeyboardInterrupt\u001b[39m: "
     ]
    }
   ],
   "source": [
    "current_solution = [{ITEMS[c][i] for c in range(NUM_CATEGORIES)} for i in range(NUM_ITEMS)]\n",
    "current_cost = cost(current_solution)\n",
    "ic(current_cost)\n",
    "# randomize it\n",
    "while current_cost > 0:\n",
    "    new_solution = tweak(current_solution)\n",
    "    new_cost = cost(new_solution)\n",
    "    if new_cost < current_cost:\n",
    "        current_cost = new_cost\n",
    "        current_solution = new_solution\n",
    "        ic(current_cost)\n",
    "    elif new_cost == current_cost:\n",
    "        current_solution = new_solution\n",
    "print(current_cost)"
   ]
  },
  {
   "cell_type": "code",
   "execution_count": null,
   "id": "27d5fd0f",
   "metadata": {},
   "outputs": [],
   "source": []
  }
 ],
 "metadata": {
  "kernelspec": {
   "display_name": ".venv",
   "language": "python",
   "name": "python3"
  },
  "language_info": {
   "codemirror_mode": {
    "name": "ipython",
    "version": 3
   },
   "file_extension": ".py",
   "mimetype": "text/x-python",
   "name": "python",
   "nbconvert_exporter": "python",
   "pygments_lexer": "ipython3",
   "version": "3.13.7"
  }
 },
 "nbformat": 4,
 "nbformat_minor": 5
}
