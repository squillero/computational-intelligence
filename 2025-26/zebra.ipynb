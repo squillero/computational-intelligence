{
 "cells": [
  {
   "cell_type": "markdown",
   "id": "11fa4375",
   "metadata": {},
   "source": [
    "Copyright **`(c)`** 2025 Giovanni Squillero `<giovanni.squillero@polito.it>`  \n",
    "[`https://github.com/squillero/computational-intelligence`](https://github.com/squillero/computational-intelligence)  \n",
    "Free under certain conditions — see the [`license`](https://github.com/squillero/computational-intelligence/blob/master/LICENSE.md) for details.  "
   ]
  },
  {
   "cell_type": "code",
   "execution_count": 1,
   "id": "c0882a9f",
   "metadata": {},
   "outputs": [],
   "source": [
    "from copy import deepcopy\n",
    "from random import random, randint, choice\n",
    "\n",
    "from tqdm.auto import tqdm\n",
    "from icecream import ic"
   ]
  },
  {
   "cell_type": "code",
   "execution_count": 2,
   "id": "f3f098a9",
   "metadata": {},
   "outputs": [],
   "source": [
    "# Thanks to Andrea!"
   ]
  },
  {
   "cell_type": "code",
   "execution_count": 3,
   "id": "b7c43278",
   "metadata": {},
   "outputs": [],
   "source": [
    "NUM_ITEMS = 50\n",
    "NUM_CATEGORIES = 10"
   ]
  },
  {
   "cell_type": "code",
   "execution_count": null,
   "id": "9b416f2a",
   "metadata": {},
   "outputs": [],
   "source": [
    "ITEMS = [[(c, n) for n in range(NUM_ITEMS)] for c in range(NUM_CATEGORIES)]\n",
    "INCOMPATIBILITIES = [\n",
    "    {\n",
    "        (randint(0, NUM_CATEGORIES - 1), randint(0, NUM_ITEMS - 1)),\n",
    "        (randint(0, NUM_CATEGORIES - 1), randint(0, NUM_ITEMS - 1)),\n",
    "    }\n",
    "    for _ in range(10000)\n",
    "]\n",
    "\n",
    "\n",
    "def x(i: set) -> bool:\n",
    "    if len(i) == 1:\n",
    "        return False\n",
    "    i1, i2 = sorted(i)\n",
    "    return i1[0] == i2[0]\n",
    "\n",
    "\n",
    "INCOMPATIBILITIES = [i for i in INCOMPATIBILITIES if not x(i)]"
   ]
  },
  {
   "cell_type": "code",
   "execution_count": 22,
   "id": "15be4421",
   "metadata": {},
   "outputs": [],
   "source": [
    "def invalid(bag: set) -> bool:\n",
    "    return any(i <= bag for i in INCOMPATIBILITIES)\n",
    "\n",
    "\n",
    "def cost(solution: list[set]) -> int:\n",
    "    return sum(invalid(b) for b in solution)"
   ]
  },
  {
   "cell_type": "code",
   "execution_count": 23,
   "id": "c6daffa7",
   "metadata": {},
   "outputs": [],
   "source": [
    "def tweak(bag: list[set], strength: float = 0.1) -> list[set]:\n",
    "    new_bag = deepcopy(bag)\n",
    "    again = True\n",
    "    while again:\n",
    "        b1 = choice([i for i in range(NUM_ITEMS) if invalid(bag[i])])\n",
    "        b2 = randint(0, NUM_ITEMS - 1)\n",
    "        b1_, b2_ = sorted(new_bag[b1]), sorted(new_bag[b2])\n",
    "        i = randint(0, NUM_CATEGORIES - 1)\n",
    "        b1_[i], b2_[i] = b2_[i], b1_[i]\n",
    "        new_bag[b1], new_bag[b2] = set(b1_), set(b2_)\n",
    "        again = random() < strength\n",
    "    return new_bag"
   ]
  },
  {
   "cell_type": "code",
   "execution_count": 28,
   "id": "af664e45",
   "metadata": {},
   "outputs": [
    {
     "name": "stderr",
     "output_type": "stream",
     "text": [
      "ic| current_cost: 50\n"
     ]
    },
    {
     "data": {
      "application/vnd.jupyter.widget-view+json": {
       "model_id": "6058a579dccc4e2da382dcd921a0ebdb",
       "version_major": 2,
       "version_minor": 0
      },
      "text/plain": [
       "  0%|          | 0/500 [00:00<?, ?it/s]"
      ]
     },
     "metadata": {},
     "output_type": "display_data"
    },
    {
     "name": "stderr",
     "output_type": "stream",
     "text": [
      "ic| steps: 5, current_cost: 49\n",
      "ic| steps: 16, current_cost: 48\n",
      "ic| steps: 23, current_cost: 47\n",
      "ic| steps: 31, current_cost: 46\n",
      "ic| steps: 83, current_cost: 45\n",
      "ic| steps: 98, current_cost: 44\n",
      "ic| steps: 186, current_cost: 43\n",
      "ic| steps: 226, current_cost: 42\n",
      "ic| steps: 284, current_cost: 41\n",
      "ic| steps: 341, current_cost: 40\n",
      "ic| steps: 343, current_cost: 39\n",
      "ic| steps: 426, current_cost: 38\n",
      "ic| steps: 454, current_cost: 37\n"
     ]
    },
    {
     "name": "stdout",
     "output_type": "stream",
     "text": [
      "37\n"
     ]
    }
   ],
   "source": [
    "current_solution = [{ITEMS[c][i] for c in range(NUM_CATEGORIES)} for i in range(NUM_ITEMS)]\n",
    "current_cost = cost(current_solution)\n",
    "ic(current_cost)\n",
    "# randomize it\n",
    "\n",
    "MAX_STEPS = 500\n",
    "\n",
    "# SA\n",
    "temp = 100\n",
    "for steps in tqdm(range(MAX_STEPS)):\n",
    "    if current_cost == 0:\n",
    "        break\n",
    "\n",
    "    if steps % 100 == 0:\n",
    "        temp *= .9\n",
    "\n",
    "    new_solution = tweak(current_solution, strength=0.4)\n",
    "    new_cost = cost(new_solution)\n",
    "\n",
    "    if new_cost < current_cost:\n",
    "        current_cost = new_cost\n",
    "        current_solution = new_solution\n",
    "        ic(steps, current_cost)\n",
    "    elif new_cost == current_cost:\n",
    "        current_solution = new_solution\n",
    "    else:\n",
    "        # SA\n",
    "        diff = new_cost - current_cost\n",
    "        p = 2 ** -(temp * diff)\n",
    "        if random() < p:\n",
    "            ic(p, new_cost, current_cost)\n",
    "            current_solution = new_solution\n",
    "\n",
    "print(current_cost)"
   ]
  },
  {
   "cell_type": "code",
   "execution_count": null,
   "id": "27d5fd0f",
   "metadata": {},
   "outputs": [],
   "source": []
  },
  {
   "cell_type": "code",
   "execution_count": null,
   "id": "3adb670e",
   "metadata": {},
   "outputs": [],
   "source": []
  }
 ],
 "metadata": {
  "kernelspec": {
   "display_name": ".venv",
   "language": "python",
   "name": "python3"
  },
  "language_info": {
   "codemirror_mode": {
    "name": "ipython",
    "version": 3
   },
   "file_extension": ".py",
   "mimetype": "text/x-python",
   "name": "python",
   "nbconvert_exporter": "python",
   "pygments_lexer": "ipython3",
   "version": "3.13.7"
  }
 },
 "nbformat": 4,
 "nbformat_minor": 5
}
