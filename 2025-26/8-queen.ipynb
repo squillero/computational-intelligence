{
 "cells": [
  {
   "cell_type": "markdown",
   "id": "291bb796",
   "metadata": {},
   "source": [
    "Copyright **`(c)`** 2025 Giovanni Squillero `<giovanni.squillero@polito.it>`  \n",
    "[`https://github.com/squillero/computational-intelligence`](https://github.com/squillero/computational-intelligence)  \n",
    "Free under certain conditions — see the [`license`](https://github.com/squillero/computational-intelligence/blob/master/LICENSE.md) for details.  "
   ]
  },
  {
   "cell_type": "code",
   "execution_count": 38,
   "id": "2853db40",
   "metadata": {},
   "outputs": [],
   "source": [
    "import random\n",
    "import itertools\n",
    "from icecream import ic"
   ]
  },
  {
   "cell_type": "code",
   "execution_count": 45,
   "id": "67d89941",
   "metadata": {},
   "outputs": [],
   "source": [
    "BOARD_SIZE = 8"
   ]
  },
  {
   "cell_type": "code",
   "execution_count": null,
   "id": "887f2eda",
   "metadata": {},
   "outputs": [],
   "source": [
    "def cost(queens):\n",
    "    return sum(a == b for a, b in itertools.combinations(queens, r=2)) + sum(\n",
    "        abs(q1[0] - q2[0]) == abs(q1[1] - q2[1])\n",
    "        for q1, q2 in itertools.combinations(enumerate(queens), r=2)\n",
    "    )"
   ]
  },
  {
   "cell_type": "markdown",
   "id": "c2863f9f",
   "metadata": {},
   "source": [
    "## TAKE 1"
   ]
  },
  {
   "cell_type": "code",
   "execution_count": null,
   "id": "2767736e",
   "metadata": {},
   "outputs": [
    {
     "name": "stderr",
     "output_type": "stream",
     "text": [
      "ic| queens: [2, 2, 7, 2, 0, 7, 5, 5], c: 8\n",
      "ic| queens: [2, 5, 7, 2, 0, 7, 1, 5], c: 5\n",
      "ic| queens: [2, 5, 7, 2, 0, 7, 1, 6], c: 4\n",
      "ic| queens: [2, 5, 3, 2, 0, 7, 1, 4], c: 3\n",
      "ic| queens: [2, 5, 1, 6, 0, 3, 1, 4], c: 1\n",
      "ic| queens: [2, 5, 1, 6, 0, 3, 7, 4], c: 0\n"
     ]
    },
    {
     "name": "stdout",
     "output_type": "stream",
     "text": [
      "Solved in 42 steps\n"
     ]
    }
   ],
   "source": [
    "queens = [random.randint(0, BOARD_SIZE - 1) for _ in range(BOARD_SIZE)]\n",
    "c = cost(queens)\n",
    "steps = 0\n",
    "while c > 0:\n",
    "    steps += 1\n",
    "    pos = random.randint(0, BOARD_SIZE - 1)\n",
    "    new_queens = queens[:]\n",
    "    new_queens[pos] = random.randint(0, BOARD_SIZE - 1)\n",
    "    nc = cost(new_queens)\n",
    "    if nc < c:\n",
    "        queens = new_queens\n",
    "        c = nc\n",
    "        ic(queens, c)\n",
    "    elif nc == c:\n",
    "        queens = new_queens\n",
    "print(f\"Solved in {steps:,} steps\")"
   ]
  },
  {
   "cell_type": "markdown",
   "id": "2cb10f0d",
   "metadata": {},
   "source": [
    "## TAKE 2"
   ]
  },
  {
   "cell_type": "code",
   "execution_count": null,
   "id": "3ecf6802",
   "metadata": {},
   "outputs": [
    {
     "name": "stderr",
     "output_type": "stream",
     "text": [
      "ic| queens: [1, 5, 3, 7, 4, 0, 2, 6], c: 4\n",
      "ic| queens: [1, 5, 7, 3, 4, 0, 2, 6], c: 3\n",
      "ic| queens: [3, 6, 4, 1, 2, 0, 5, 7], c: 2\n",
      "ic| queens: [3, 6, 4, 1, 5, 0, 2, 7], c: 0\n"
     ]
    },
    {
     "name": "stdout",
     "output_type": "stream",
     "text": [
      "Solved in 36 steps\n"
     ]
    }
   ],
   "source": [
    "queens = list(range(BOARD_SIZE))\n",
    "random.shuffle(queens)\n",
    "c = cost(queens)\n",
    "steps = 0\n",
    "while c > 0:\n",
    "    steps += 1\n",
    "    new_queens = queens[:]\n",
    "    p1, p2 = random.randint(0, BOARD_SIZE - 1), random.randint(0, BOARD_SIZE - 1)\n",
    "    new_queens[p1] = queens[p2]\n",
    "    new_queens[p2] = queens[p1]\n",
    "    nc = cost(new_queens)\n",
    "    if nc < c:\n",
    "        queens = new_queens\n",
    "        c = nc\n",
    "        ic(queens, c)\n",
    "    elif nc == c:\n",
    "        queens = new_queens\n",
    "print(f\"Solved in {steps:,} steps\")"
   ]
  },
  {
   "cell_type": "code",
   "execution_count": null,
   "id": "5b87d725",
   "metadata": {},
   "outputs": [],
   "source": []
  }
 ],
 "metadata": {
  "kernelspec": {
   "display_name": ".venv",
   "language": "python",
   "name": "python3"
  },
  "language_info": {
   "codemirror_mode": {
    "name": "ipython",
    "version": 3
   },
   "file_extension": ".py",
   "mimetype": "text/x-python",
   "name": "python",
   "nbconvert_exporter": "python",
   "pygments_lexer": "ipython3",
   "version": "3.13.7"
  }
 },
 "nbformat": 4,
 "nbformat_minor": 5
}
