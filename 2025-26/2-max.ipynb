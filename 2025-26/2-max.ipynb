{
 "cells": [
  {
   "cell_type": "markdown",
   "id": "03f08af9",
   "metadata": {},
   "source": [
    "Copyright **`(c)`** 2025 Giovanni Squillero `<giovanni.squillero@polito.it>`  \n",
    "[`https://github.com/squillero/computational-intelligence`](https://github.com/squillero/computational-intelligence)  \n",
    "Free under certain conditions — see the [`license`](https://github.com/squillero/computational-intelligence/blob/master/LICENSE.md) for details.  "
   ]
  },
  {
   "cell_type": "code",
   "execution_count": 1,
   "id": "f00281a9",
   "metadata": {},
   "outputs": [],
   "source": [
    "import random\n",
    "from icecream import ic"
   ]
  },
  {
   "cell_type": "markdown",
   "id": "e7061eca",
   "metadata": {},
   "source": []
  },
  {
   "cell_type": "code",
   "execution_count": 2,
   "id": "93d76b8d",
   "metadata": {},
   "outputs": [],
   "source": [
    "PROBLEM_SIZE = 100"
   ]
  },
  {
   "cell_type": "code",
   "execution_count": 3,
   "id": "12e8f5d6",
   "metadata": {},
   "outputs": [],
   "source": [
    "def fitness(sol):\n",
    "    return max(sum(sol), PROBLEM_SIZE-sum(sol))\n",
    "\n",
    "def tweak(sol):\n",
    "    idx = random.randint(0, len(sol)-1)\n",
    "    sol[idx] = not sol[idx]\n",
    "    return sol"
   ]
  },
  {
   "cell_type": "code",
   "execution_count": 4,
   "id": "da95a6b8",
   "metadata": {},
   "outputs": [
    {
     "name": "stderr",
     "output_type": "stream",
     "text": [
      "ic| fitness(new_solution): 60\n",
      "ic| fitness(new_solution): 61\n",
      "ic| fitness(new_solution): 62\n",
      "ic| fitness(new_solution): 63\n",
      "ic| fitness(new_solution): 64\n",
      "ic| fitness(new_solution): 65\n",
      "ic| fitness(new_solution): 66\n",
      "ic| fitness(new_solution): 67\n",
      "ic| fitness(new_solution): 68\n",
      "ic| fitness(new_solution): 69\n",
      "ic| fitness(new_solution): 70\n",
      "ic| fitness(new_solution): 71\n",
      "ic| fitness(new_solution): 72\n",
      "ic| fitness(new_solution): 73\n",
      "ic| fitness(new_solution): 74\n",
      "ic| fitness(new_solution): 75\n",
      "ic| fitness(new_solution): 76\n",
      "ic| fitness(new_solution): 77\n",
      "ic| fitness(new_solution): 78\n",
      "ic| fitness(new_solution): 79\n",
      "ic| fitness(new_solution): 80\n",
      "ic| fitness(new_solution): 81\n",
      "ic| fitness(new_solution): 82\n",
      "ic| fitness(new_solution): 83\n",
      "ic| fitness(new_solution): 84\n",
      "ic| fitness(new_solution): 85\n",
      "ic| fitness(new_solution): 86\n",
      "ic| fitness(new_solution): 87\n",
      "ic| fitness(new_solution): 88\n",
      "ic| fitness(new_solution): 89\n",
      "ic| fitness(new_solution): 90\n",
      "ic| fitness(new_solution): 91\n",
      "ic| fitness(new_solution): 92\n",
      "ic| fitness(new_solution): 93\n",
      "ic| fitness(new_solution): 94\n",
      "ic| fitness(new_solution): 95\n",
      "ic| fitness(new_solution): 96\n",
      "ic| fitness(new_solution): 97\n",
      "ic| fitness(new_solution): 98\n",
      "ic| fitness(new_solution): 99\n",
      "ic| fitness(new_solution): 100\n"
     ]
    }
   ],
   "source": [
    "current_solution = [random.random() < .5 for _ in range(PROBLEM_SIZE)]\n",
    "\n",
    "while fitness(current_solution) < PROBLEM_SIZE:\n",
    "    new_solution = tweak(current_solution[:])\n",
    "    if fitness(new_solution) > fitness(current_solution):\n",
    "        ic(fitness(new_solution))\n",
    "        current_solution = new_solution\n",
    "# print(current_solution)"
   ]
  },
  {
   "cell_type": "code",
   "execution_count": null,
   "id": "d8745365",
   "metadata": {},
   "outputs": [],
   "source": [
    "a = PROBLEM_SIZE"
   ]
  },
  {
   "cell_type": "code",
   "execution_count": null,
   "id": "3a0dcacf",
   "metadata": {},
   "outputs": [],
   "source": []
  }
 ],
 "metadata": {
  "kernelspec": {
   "display_name": ".venv",
   "language": "python",
   "name": "python3"
  },
  "language_info": {
   "codemirror_mode": {
    "name": "ipython",
    "version": 3
   },
   "file_extension": ".py",
   "mimetype": "text/x-python",
   "name": "python",
   "nbconvert_exporter": "python",
   "pygments_lexer": "ipython3",
   "version": "3.13.7"
  }
 },
 "nbformat": 4,
 "nbformat_minor": 5
}
