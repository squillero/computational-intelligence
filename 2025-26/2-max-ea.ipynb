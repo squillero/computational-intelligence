{
 "cells": [
  {
   "cell_type": "markdown",
   "id": "03f08af9",
   "metadata": {},
   "source": [
    "Copyright **`(c)`** 2025 Giovanni Squillero `<giovanni.squillero@polito.it>`  \n",
    "[`https://github.com/squillero/computational-intelligence`](https://github.com/squillero/computational-intelligence)  \n",
    "Free under certain conditions — see the [`license`](https://github.com/squillero/computational-intelligence/blob/master/LICENSE.md) for details.  "
   ]
  },
  {
   "cell_type": "code",
   "execution_count": 14,
   "id": "f00281a9",
   "metadata": {},
   "outputs": [],
   "source": [
    "import random\n",
    "from collections import namedtuple\n",
    "from tqdm import tqdm\n",
    "from icecream import ic"
   ]
  },
  {
   "cell_type": "code",
   "execution_count": 15,
   "id": "93d76b8d",
   "metadata": {},
   "outputs": [],
   "source": [
    "PROBLEM_SIZE = 100"
   ]
  },
  {
   "cell_type": "code",
   "execution_count": 16,
   "id": "0aa6c4d7",
   "metadata": {},
   "outputs": [],
   "source": [
    "Individual = namedtuple('Individual', ['genotype', 'fitness'])"
   ]
  },
  {
   "cell_type": "code",
   "execution_count": 48,
   "id": "12e8f5d6",
   "metadata": {},
   "outputs": [],
   "source": [
    "def fitness_function(sol: list[bool]) -> int:\n",
    "    # return max(sum(sol), PROBLEM_SIZE - sum(sol))\n",
    "    return sum(sol)\n",
    "\n",
    "\n",
    "def single_bit_mutation(sol: Individual):\n",
    "    new_genotype = sol.genotype[:]\n",
    "    idx = random.randint(0, PROBLEM_SIZE - 1)\n",
    "    new_genotype[idx] = not new_genotype[idx]\n",
    "    return Individual(new_genotype, None)\n",
    "\n",
    "\n",
    "def one_cut_xover(p1: Individual, p2: Individual) -> Individual:\n",
    "    idx = random.randint(0, PROBLEM_SIZE - 1)\n",
    "    new_genotype = p1.genotype[:idx] + p2.genotype[idx:]\n",
    "    return Individual(new_genotype, None)"
   ]
  },
  {
   "cell_type": "code",
   "execution_count": 77,
   "id": "55f12b20",
   "metadata": {},
   "outputs": [],
   "source": [
    "def fitness_proportional(population: list[Individual]) -> Individual:\n",
    "    tot_fitness = sum(i.fitness for i in population)\n",
    "    weights = [i.fitness / tot_fitness for i in population]\n",
    "    s = random.choices(population, weights=weights)\n",
    "    return s[0]\n",
    "\n",
    "\n",
    "def tournament_selection(population: list[Individual], tau: int = 5) -> Individual:\n",
    "    pool = random.choices(population, k=tau)\n",
    "    return max(pool, key=lambda i: i.fitness)\n",
    "\n",
    "\n",
    "select_parent = tournament_selection"
   ]
  },
  {
   "cell_type": "code",
   "execution_count": 78,
   "id": "868aba10",
   "metadata": {},
   "outputs": [],
   "source": [
    "POPULATION_SIZE = 50\n",
    "OFFSPRING_SIZE = 20"
   ]
  },
  {
   "cell_type": "code",
   "execution_count": 79,
   "id": "da95a6b8",
   "metadata": {},
   "outputs": [],
   "source": [
    "MUTATION_RATE = 0.5"
   ]
  },
  {
   "cell_type": "code",
   "execution_count": 80,
   "id": "d8745365",
   "metadata": {},
   "outputs": [
    {
     "name": "stderr",
     "output_type": "stream",
     "text": [
      "ic| generation: 84, evaluations: 1680, best_fitness: 100\n"
     ]
    },
    {
     "name": "stderr",
     "output_type": "stream",
     "text": [
      "ic| generation: 88, evaluations: 1760, best_fitness: 100\n",
      "ic| generation: 73, evaluations: 1460, best_fitness: 100\n",
      "ic| generation: 94, evaluations: 1880, best_fitness: 100\n",
      "ic| generation: 93, evaluations: 1860, best_fitness: 100\n",
      "ic| generation: 106, evaluations: 2120, best_fitness: 100\n",
      "ic| generation: 87, evaluations: 1740, best_fitness: 100\n",
      "ic| generation: 80, evaluations: 1600, best_fitness: 100\n",
      "ic| generation: 79, evaluations: 1580, best_fitness: 100\n",
      "ic| generation: 129, evaluations: 2580, best_fitness: 100\n"
     ]
    }
   ],
   "source": [
    "for stats in range(10):\n",
    "    current_population = list()\n",
    "    for i in range(POPULATION_SIZE):\n",
    "        genotype = [random.random() < 0.5 for _ in range(PROBLEM_SIZE)]\n",
    "        fitness = fitness_function(genotype)\n",
    "        new_individual = Individual(genotype, fitness)\n",
    "        current_population.append(new_individual)\n",
    "\n",
    "    best_fitness = -1\n",
    "    generation = 0\n",
    "    evaluations = 0\n",
    "    while best_fitness < PROBLEM_SIZE:\n",
    "        generation += 1\n",
    "        offspring = list()\n",
    "        for o in range(OFFSPRING_SIZE):\n",
    "            if random.random() < MUTATION_RATE:\n",
    "                p = select_parent(current_population)\n",
    "                o = single_bit_mutation(p)\n",
    "            else:\n",
    "                p1 = select_parent(current_population)\n",
    "                p2 = select_parent(current_population)\n",
    "                o = one_cut_xover(p1, p2)\n",
    "            offspring.append(o)\n",
    "        evaluations += len(offspring)\n",
    "        offspring = [Individual(o.genotype, fitness_function(o.genotype)) for o in offspring]\n",
    "\n",
    "        # steady state\n",
    "        current_population.extend(offspring)\n",
    "\n",
    "        # survival selection\n",
    "        current_population = sorted(current_population, key=lambda i: i.fitness, reverse=True)\n",
    "        if current_population[0].fitness > best_fitness:\n",
    "            best_fitness = current_population[0].fitness\n",
    "\n",
    "        current_population = current_population[:POPULATION_SIZE]\n",
    "    ic(generation, evaluations, best_fitness)"
   ]
  },
  {
   "cell_type": "code",
   "execution_count": 9,
   "id": "3a0dcacf",
   "metadata": {},
   "outputs": [
    {
     "data": {
      "text/plain": [
       "4"
      ]
     },
     "execution_count": 9,
     "metadata": {},
     "output_type": "execute_result"
    }
   ],
   "source": [
    "len(offspring)"
   ]
  },
  {
   "cell_type": "code",
   "execution_count": null,
   "id": "1e0e9cd4",
   "metadata": {},
   "outputs": [],
   "source": []
  }
 ],
 "metadata": {
  "kernelspec": {
   "display_name": ".venv",
   "language": "python",
   "name": "python3"
  },
  "language_info": {
   "codemirror_mode": {
    "name": "ipython",
    "version": 3
   },
   "file_extension": ".py",
   "mimetype": "text/x-python",
   "name": "python",
   "nbconvert_exporter": "python",
   "pygments_lexer": "ipython3",
   "version": "3.14.0"
  }
 },
 "nbformat": 4,
 "nbformat_minor": 5
}
