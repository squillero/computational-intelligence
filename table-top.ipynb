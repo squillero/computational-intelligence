{
 "cells": [
  {
   "cell_type": "markdown",
   "metadata": {},
   "source": [
    "Copyright **`(c)`** 2021 Giovanni Squillero `<squillero@polito.it>`  \n",
    "`https://github.com/squillero/computational-intelligence`  \n",
    "Licensed under the EUPL"
   ]
  },
  {
   "cell_type": "code",
   "execution_count": 5,
   "metadata": {},
   "outputs": [],
   "source": [
    "from random import choice"
   ]
  },
  {
   "cell_type": "code",
   "execution_count": 6,
   "metadata": {},
   "outputs": [],
   "source": [
    "def print_table():\n",
    "    global TABLE\n",
    "    t2 = [p for p in TABLE if p]\n",
    "    max_height = max(len(p) for p in t2)\n",
    "    dim_block = max(max(len(e) for e in l) for l in t2)\n",
    "    printout = list()\n",
    "    for p in TABLE:\n",
    "        tmp = p + [\" \" * dim_block] * (max_height - len(p))\n",
    "        printout.append(tmp[::-1])\n",
    "    for line in zip(*printout):\n",
    "        print(\"    \".join(f\"{{:{dim_block}s}}\".format(b) for b in line))\n",
    "    print(\"    \".join(f\"{{:{dim_block}d}}\".format(i) for i in range(len(TABLE))))"
   ]
  },
  {
   "cell_type": "code",
   "execution_count": 7,
   "metadata": {},
   "outputs": [],
   "source": [
    "TAG = \">\"\n",
    "TABU = list()\n",
    "\n",
    "TABLE = None\n",
    "HAND = None\n",
    "\n",
    "\n",
    "def find_pile_of(block):\n",
    "    return next(i for i, p in enumerate(TABLE) if block in p)\n",
    "\n",
    "\n",
    "def find_pile_tabu():\n",
    "    # return next((i for i, p in enumerate(TABLE) if all(t not in p for t in TABU)), -1)\n",
    "    acceptable_piles = [i for i, p in enumerate(TABLE) if all(t not in p for t in TABU)]\n",
    "    if not acceptable_piles:\n",
    "        return -1\n",
    "    else:\n",
    "        return choice(acceptable_piles)\n",
    "\n",
    "\n",
    "def on_top(block):\n",
    "    return TABLE[find_pile_of(block)][-1] == block\n",
    "\n",
    "\n",
    "def put_on(block1, block2, depth=1):\n",
    "    global TABU\n",
    "    TABU = [block1, block2]\n",
    "    print(TAG * depth + \" \" + f\"Putting '{block1}' on '{block2}'\")\n",
    "    if not on_top(block1):\n",
    "        clear_above(block1, depth=depth + 1)\n",
    "    if not on_top(block2):\n",
    "        clear_above(block2, depth=depth + 1)\n",
    "    grasp(block1, depth=depth + 1)\n",
    "    drop_on_pile(find_pile_of(block2), depth=depth + 1)\n",
    "\n",
    "\n",
    "def drop_on_pile(pile, depth=1):\n",
    "    global HAND\n",
    "    assert HAND is not None\n",
    "    if pile < 0:\n",
    "        pile = len(TABLE)\n",
    "        TABLE.append([])\n",
    "    print(TAG * depth + \" \" + f\"Dropping block '{HAND}' on pile {pile}\")\n",
    "    TABLE[pile].append(HAND)\n",
    "    HAND = None\n",
    "\n",
    "\n",
    "def grasp(block, depth=1):\n",
    "    global HAND\n",
    "    assert HAND is None\n",
    "    print(TAG * depth + \" \" + f\"Grasping block '{block}'\")\n",
    "    pile = find_pile_of(block)\n",
    "    if not on_top(block):\n",
    "        clear_above(block, depth=depth + 1)\n",
    "    assert TABLE[pile].pop() == block\n",
    "    HAND = block\n",
    "\n",
    "\n",
    "def clear_above(block, depth=1):\n",
    "    print(TAG * depth + \" \" + f\"Clearing above block '{block}'\")\n",
    "    pile = find_pile_of(block)\n",
    "    while TABLE[pile][-1] != block:\n",
    "        tmp = TABLE[pile][-1]\n",
    "        grasp(tmp, depth=depth + 1)\n",
    "        drop_on_pile(find_pile_tabu(), depth=depth + 1)"
   ]
  },
  {
   "cell_type": "code",
   "execution_count": 9,
   "metadata": {},
   "outputs": [
    {
     "name": "stdout",
     "output_type": "stream",
     "text": [
      "            C4      \n",
      "      B3    C3    D3\n",
      "A2    B2    C2    D2\n",
      "A1    B1    C1    D1\n",
      " 0     1     2     3\n"
     ]
    }
   ],
   "source": [
    "TABLE = list()\n",
    "TABLE.append([\"A1\", \"A2\"])\n",
    "TABLE.append([\"B1\", \"B2\", \"B3\"])\n",
    "TABLE.append([\"C1\", \"C2\", \"C3\", \"C4\"])\n",
    "TABLE.append([\"D1\", \"D2\", \"D3\"])\n",
    "print_table()"
   ]
  },
  {
   "cell_type": "code",
   "execution_count": 10,
   "metadata": {},
   "outputs": [
    {
     "name": "stdout",
     "output_type": "stream",
     "text": [
      "> Putting 'C1' on 'A2'\n",
      ">> Clearing above block 'C1'\n",
      ">>> Grasping block 'C4'\n",
      ">>> Dropping block 'C4' on pile 3\n",
      ">>> Grasping block 'C3'\n",
      ">>> Dropping block 'C3' on pile 1\n",
      ">>> Grasping block 'C2'\n",
      ">>> Dropping block 'C2' on pile 3\n",
      ">> Grasping block 'C1'\n",
      ">> Dropping block 'C1' on pile 0\n"
     ]
    }
   ],
   "source": [
    "put_on('C1', 'A2')"
   ]
  },
  {
   "cell_type": "code",
   "execution_count": 11,
   "metadata": {},
   "outputs": [
    {
     "name": "stdout",
     "output_type": "stream",
     "text": [
      "                  C2\n",
      "      C3          C4\n",
      "C1    B3          D3\n",
      "A2    B2          D2\n",
      "A1    B1          D1\n",
      " 0     1     2     3\n"
     ]
    }
   ],
   "source": [
    "print_table()"
   ]
  },
  {
   "cell_type": "code",
   "execution_count": 16,
   "metadata": {},
   "outputs": [
    {
     "name": "stdout",
     "output_type": "stream",
     "text": [
      "i          \n",
      "n          \n",
      "n          \n",
      "a          \n",
      "v    f     \n",
      "o    l     \n",
      "i    d     \n",
      "G    A    P\n",
      "0    1    2\n"
     ]
    }
   ],
   "source": [
    "TABLE = list()\n",
    "TABLE.append(list(\"Giovanni\"))\n",
    "TABLE.append(list(\"Adlf\"))\n",
    "TABLE.append(list(\"P\"))\n",
    "print_table()"
   ]
  },
  {
   "cell_type": "code",
   "execution_count": 17,
   "metadata": {},
   "outputs": [
    {
     "name": "stdout",
     "output_type": "stream",
     "text": [
      "> Putting 'G' on 'i'\n",
      ">> Clearing above block 'G'\n",
      ">>> Grasping block 'i'\n",
      ">>> Dropping block 'i' on pile 2\n",
      ">>> Grasping block 'n'\n",
      ">>> Dropping block 'n' on pile 1\n",
      ">>> Grasping block 'n'\n",
      ">>> Dropping block 'n' on pile 1\n",
      ">>> Grasping block 'a'\n",
      ">>> Dropping block 'a' on pile 1\n",
      ">>> Grasping block 'v'\n",
      ">>> Dropping block 'v' on pile 1\n",
      ">>> Grasping block 'o'\n",
      ">>> Dropping block 'o' on pile 1\n",
      ">>> Grasping block 'i'\n",
      ">>> Dropping block 'i' on pile 1\n",
      ">> Grasping block 'G'\n",
      ">> Dropping block 'G' on pile 1\n",
      "     G     \n",
      "     i     \n",
      "     o     \n",
      "     v     \n",
      "     a     \n",
      "     n     \n",
      "     n     \n",
      "     f     \n",
      "     l     \n",
      "     d    i\n",
      "     A    P\n",
      "0    1    2\n"
     ]
    }
   ],
   "source": [
    "put_on('G', 'i')\n",
    "print_table()"
   ]
  },
  {
   "cell_type": "code",
   "execution_count": null,
   "metadata": {},
   "outputs": [],
   "source": []
  }
 ],
 "metadata": {
  "interpreter": {
   "hash": "fbff9bfab3ee0df4124016b4e010029cf2ec5864ce5e3c4aa09796cc364af95f"
  },
  "kernelspec": {
   "display_name": "Python 3.8.11 64-bit ('base': conda)",
   "name": "python3"
  },
  "language_info": {
   "codemirror_mode": {
    "name": "ipython",
    "version": 3
   },
   "file_extension": ".py",
   "mimetype": "text/x-python",
   "name": "python",
   "nbconvert_exporter": "python",
   "pygments_lexer": "ipython3",
   "version": "3.8.0"
  },
  "orig_nbformat": 4
 },
 "nbformat": 4,
 "nbformat_minor": 2
}
